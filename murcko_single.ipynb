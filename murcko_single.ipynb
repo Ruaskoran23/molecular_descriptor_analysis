{
 "cells": [
  {
   "cell_type": "code",
   "execution_count": 13,
   "id": "e905d52a",
   "metadata": {},
   "outputs": [],
   "source": [
    "from rdkit import Chem\n",
    "from rdkit.Chem import Draw\n",
    "from rdkit.Chem.Scaffolds import MurckoScaffold\n",
    "import sys\n",
    "import pandas as pd\n",
    "from IPython.display import display  # For Jupyter notebooks\n",
    "import matplotlib.pyplot as plt  \n",
    "from rdkit.Chem.Draw import IPythonConsole\n",
    "from rdkit.Chem.Draw import rdMolDraw2D\n",
    "import sys"
   ]
  },
  {
   "cell_type": "code",
   "execution_count": null,
   "id": "7b4ef965",
   "metadata": {},
   "outputs": [
    {
     "name": "stdout",
     "output_type": "stream",
     "text": [
      "\n",
      "==================================================\n",
      "Processing: CCCCCCCCCCCCCCCCCCCC(O)=NC(CO[P]([O-])(=O)OCC[N+](C)(C)C)C(O)C=CCCCCCCCCCCCCC\n",
      "Scaffold SMILES: \n",
      "Input SMILES: CCCCCCCCCCCCCCCCCCCC(O)=NC(CO[P]([O-])(=O)OCC[N+](C)(C)C)C(O)C=CCCCCCCCCCCCCC\n",
      "==================================================\n",
      "\n",
      "\n",
      "==================================================\n",
      "Processing: CC(C)=CCCC(C)=CCCC(C)=CCc1c(C)c(c(O)cc1O)C2=C(C)C(=O)C(=C(CC=C(C)CCC=C(C)CCC=C(C)C)C2=O)O\n",
      "Scaffold SMILES: O=C1C=CC(=O)C(c2ccccc2)=C1\n"
     ]
    },
    {
     "name": "stderr",
     "output_type": "stream",
     "text": [
      "\n",
      "ERROR: Generated scaffold contains no atoms\n"
     ]
    },
    {
     "data": {
      "image/png": "[encoded data removed]",
      "text/plain": [
       "<rdkit.Chem.rdchem.Mol at 0x20be79e0ac0>"
      ]
     },
     "metadata": {},
     "output_type": "display_data"
    },
    {
     "name": "stderr",
     "output_type": "stream",
     "text": [
      "\n",
      "ERROR: Generated scaffold contains no atoms\n"
     ]
    },
    {
     "name": "stdout",
     "output_type": "stream",
     "text": [
      "==================================================\n",
      "\n",
      "\n",
      "==================================================\n",
      "Processing: CCCCCCCCCCCCCCCCCCCCCCC(=O)NC(CO[P]([O-])(=O)OCC[N+](C)(C)C)C(O)C=CCCCCCCCCC(C)CC\n",
      "Scaffold SMILES: \n",
      "Input SMILES: CCCCCCCCCCCCCCCCCCCCCCC(=O)NC(CO[P]([O-])(=O)OCC[N+](C)(C)C)C(O)C=CCCCCCCCCC(C)CC\n",
      "==================================================\n",
      "\n",
      "\n",
      "==================================================\n",
      "Processing: CC(=CC=CC=C(C)C=CC=C(C)C=Cc1c(C)cc(O)c(C)c1C)C=CC=C(C)C=Cc2c(C)ccc(C)c2C\n",
      "Scaffold SMILES: C(=CC=CC=CC=CC=Cc1ccccc1)C=CC=CC=CC=Cc1ccccc1\n"
     ]
    },
    {
     "data": {
      "image/png": "[encoded data removed]",
      "text/plain": [
       "<rdkit.Chem.rdchem.Mol at 0x20be79e0ac0>"
      ]
     },
     "metadata": {},
     "output_type": "display_data"
    },
    {
     "name": "stdout",
     "output_type": "stream",
     "text": [
      "==================================================\n",
      "\n",
      "\n",
      "==================================================\n",
      "Processing: CC(C)=CCCC(C)=CCCC(C)=CCCC(CO)=CCCC(C)=CCCC(C)=CCCC(C)=CCCC(C)=CCc1cc(O[S](O)(=O)=O)ccc1O\n",
      "Scaffold SMILES: c1ccccc1\n"
     ]
    },
    {
     "data": {
      "image/png": "[encoded data removed]",
      "text/plain": [
       "<rdkit.Chem.rdchem.Mol at 0x20be79e0cf0>"
      ]
     },
     "metadata": {},
     "output_type": "display_data"
    },
    {
     "name": "stdout",
     "output_type": "stream",
     "text": [
      "==================================================\n",
      "\n"
     ]
    }
   ],
   "source": [
    "def display_murcko_scaffold(smiles):\n",
    "    \"\"\"\n",
    "    Display the Murcko scaffold from a SMILES string with comprehensive error handling.\n",
    "    \n",
    "    Args:\n",
    "        smiles (str): SMILES string of the molecule\n",
    "        \n",
    "    Returns:\n",
    "        str: Scaffold SMILES if successful, None otherwise\n",
    "    \"\"\"\n",
    "    try:\n",
    "        # 1. Validate and parse SMILES\n",
    "        mol = Chem.MolFromSmiles(smiles)\n",
    "        if mol is None:\n",
    "            raise ValueError(\"Failed to parse SMILES string - may be invalid\")\n",
    "            \n",
    "        # 2. Generate Murcko scaffold\n",
    "        scaffold = MurckoScaffold.GetScaffoldForMol(mol)\n",
    "        if scaffold is None:\n",
    "            raise ValueError(\"Could not generate scaffold - molecule may be too simple\")\n",
    "            \n",
    "        scaffold_smiles = Chem.MolToSmiles(scaffold)\n",
    "        print(f\"Scaffold SMILES: {scaffold_smiles}\")\n",
    "        \n",
    "        # 3. Handle cases where scaffold has no atoms (unlikely but possible)\n",
    "        if scaffold.GetNumAtoms() == 0:\n",
    "            raise ValueError(\"Generated scaffold contains no atoms\")\n",
    "            \n",
    "        # 4. Try multiple display methods with fallbacks\n",
    "        try:\n",
    "            # Method 1: Best for Jupyter - interactive display\n",
    "            display(scaffold)\n",
    "        except:\n",
    "            try:\n",
    "                # Method 2: RDKit's native drawing\n",
    "                img = Draw.MolToImage(scaffold, size=(500, 500))\n",
    "                plt.imshow(img)\n",
    "                plt.axis('off')\n",
    "                plt.title(\"Murcko Scaffold\")\n",
    "                plt.show()\n",
    "            except Exception as draw_error:\n",
    "                # Method 3: ASCII fallback\n",
    "                print(\"\\nCould not generate image display. ASCII representation:\")\n",
    "                print(Chem.MolToMolBlock(scaffold))\n",
    "                print(f\"\\nDrawing error: {str(draw_error)}\")\n",
    "                \n",
    "        return scaffold_smiles\n",
    "        \n",
    "    except Exception as e:\n",
    "        print(f\"\\nERROR: {str(e)}\", file=sys.stderr)\n",
    "        print(f\"Input SMILES: {smiles}\")\n",
    "        \n",
    "        # For very simple molecules that can't form scaffolds\n",
    "        if \"too simple\" in str(e).lower():\n",
    "            print(\"This molecule doesn't contain a scaffold (no ring systems or linkers)\")\n",
    "            print(\"Original molecule:\")\n",
    "            try:\n",
    "                display(mol) if 'mol' in locals() else print(Chem.MolToSmiles(Chem.MolFromSmiles(smiles)))\n",
    "            except:\n",
    "                print(smiles)\n",
    "                \n",
    "        return None\n",
    "\n",
    "# Example usage with various test cases\n",
    "if __name__ == \"__main__\":\n",
    "    test_cases = [\n",
    "        \"\",  # Caffeine (valid scaffold)\n",
    "        \"\",                           # Ethanol (no scaffold)\n",
    "        \"\",                # Invalid SMILES\n",
    "        \"CC(=CC=CC=C(C)C=CC=C(C)C=Cc1c(C)cc(O)c(C)c1C)C=CC=C(C)C=Cc2c(C)ccc(C)c2C\",                   # Benzene (scaffold = itself)\n",
    "        \"CC(C)=CCCC(C)=CCCC(C)=CCCC(CO)=CCCC(C)=CCCC(C)=CCCC(C)=CCCC(C)=CCc1cc(O[S](O)(=O)=O)ccc1O\"                              # Methane (no scaffold)\n",
    "    ]\n",
    "    \n",
    "    for smiles in test_cases:\n",
    "        print(f\"\\n{'='*50}\")\n",
    "        print(f\"Processing: {smiles}\")\n",
    "        result = display_murcko_scaffold(smiles)\n",
    "        print(f\"{'='*50}\\n\")"
   ]
  }
 ],
 "metadata": {
  "kernelspec": {
   "display_name": "Python 3",
   "language": "python",
   "name": "python3"
  },
  "language_info": {
   "codemirror_mode": {
    "name": "ipython",
    "version": 3
   },
   "file_extension": ".py",
   "mimetype": "text/x-python",
   "name": "python",
   "nbconvert_exporter": "python",
   "pygments_lexer": "ipython3",
   "version": "3.12.0"
  }
 },
 "nbformat": 4,
 "nbformat_minor": 5
}
